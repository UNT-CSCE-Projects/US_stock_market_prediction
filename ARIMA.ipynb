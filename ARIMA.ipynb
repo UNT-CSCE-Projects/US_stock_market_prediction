{
  "nbformat": 4,
  "nbformat_minor": 0,
  "metadata": {
    "colab": {
      "provenance": [],
      "authorship_tag": "ABX9TyPXlEWi0TW4j0HFMLOe0EdB",
      "include_colab_link": true
    },
    "kernelspec": {
      "name": "python3",
      "display_name": "Python 3"
    },
    "language_info": {
      "name": "python"
    }
  },
  "cells": [
    {
      "cell_type": "markdown",
      "metadata": {
        "id": "view-in-github",
        "colab_type": "text"
      },
      "source": [
        "<a href=\"https://colab.research.google.com/github/UNT-CSCE-Projects/US_stock_market_prediction/blob/dev_backend/ARIMA.ipynb\" target=\"_parent\"><img src=\"https://colab.research.google.com/assets/colab-badge.svg\" alt=\"Open In Colab\"/></a>"
      ]
    },
    {
      "cell_type": "code",
      "execution_count": null,
      "metadata": {
        "colab": {
          "base_uri": "https://localhost:8080/"
        },
        "id": "1K2ZxgN3XTLn",
        "outputId": "cc2427fb-e921-4a2f-9f79-ec634cacd9a5"
      },
      "outputs": [
        {
          "output_type": "stream",
          "name": "stderr",
          "text": [
            "/usr/local/lib/python3.10/dist-packages/statsmodels/tsa/statespace/representation.py:374: FutureWarning: Unknown keyword arguments: dict_keys(['max_iter']).Passing unknown keyword arguments will raise a TypeError beginning in version 0.15.\n",
            "  warnings.warn(msg, FutureWarning)\n"
          ]
        }
      ],
      "source": [
        "import pandas as pd\n",
        "from statsmodels.tsa.statespace.sarimax import SARIMAX\n",
        "from statsmodels.tsa.arima.model import ARIMA\n",
        "\n",
        "def train_and_predict_models(df):\n",
        "    # Filter rows where 'stock_id' is 22\n",
        "    train_dataset_row_22 = df[df['stock_id'] == 22]\n",
        "\n",
        "    # Drop unnecessary columns\n",
        "    train_22 = train_dataset_row_22.drop(axis='columns', columns=['stock_id', 'date_id', 'seconds_in_bucket', 'imbalance_size', 'imbalance_buy_sell_flag', 'reference_price', 'matched_size', 'far_price', 'near_price', 'bid_price', 'bid_size', 'ask_price', 'ask_size', 'wap', 'row_id'])\n",
        "\n",
        "    # Set 'time_id' as the index\n",
        "    train_22 = train_22.set_index('time_id')\n",
        "\n",
        "    # SARIMAX model\n",
        "    p, d, q, P, D, Q, s = 1, 1, 1, 1, 1, 1, 7 # Example values, please replace with appropriate orders and seasonal periodicity\n",
        "    column_name = 'target' # Corrected column name\n",
        "    model_sarimax = SARIMAX(train_22[column_name], order=(p, d, q), seasonal_order=(P, D, Q, s), max_iter=1000)\n",
        "    result_sarimax = model_sarimax.fit()\n",
        "\n",
        "    # ARIMA model\n",
        "    day = 1\n",
        "    start = (day - 1) * 55\n",
        "    end = day * 55\n",
        "\n",
        "    arma_diff1 = ARIMA(train_22[start:end-4].diff(), order=(1, 0, 3)).fit()\n",
        "    forecast_arma = arma_diff1.predict(end-4, end-1, dynamic=True)\n",
        "    test = train_22[end-4:end]\n",
        "    mse_arma = ((forecast_arma - test[column_name]) ** 2).mean()\n",
        "    baseline_mae_arma = (forecast_arma - test[column_name]).abs().mean()\n",
        "\n",
        "    return result_sarimax, forecast_arma, test\n",
        "\n",
        "# Load the dataset\n",
        "df = pd.read_csv('/content/drive/MyDrive/train.csv')\n",
        "\n",
        "# Call the function\n",
        "result_sarimax, forecast_arma, test = train_and_predict_models(df)"
      ]
    }
  ]
}